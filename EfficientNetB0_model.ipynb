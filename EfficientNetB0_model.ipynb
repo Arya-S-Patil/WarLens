{
 "cells": [
  {
   "cell_type": "code",
   "execution_count": 6,
   "id": "e96a0b05-9799-4690-82a5-b993abc05f9c",
   "metadata": {},
   "outputs": [],
   "source": [
    "import tensorflow as tf\n",
    "import os\n",
    "import numpy as np\n",
    "import pandas as pd\n",
    "from PIL import Image\n",
    "from tensorflow.keras import layers, models\n",
    "from tensorflow.keras.models import Sequential ,load_model, Model\n",
    "from tensorflow.keras.layers import Dense, Dropout, Flatten, GlobalAveragePooling2D\n",
    "from tensorflow.keras.applications import ResNet50, MobileNetV2, EfficientNetB0, DenseNet121, InceptionV3, Xception\n",
    "from tensorflow.keras.optimizers import Adam"
   ]
  },
  {
   "cell_type": "code",
   "execution_count": 7,
   "id": "6f34caf3-428f-49f8-b684-c2556c2ef46e",
   "metadata": {},
   "outputs": [],
   "source": [
    "combat = \"/Users/ishanurgaonkar/Downloads/imagedata/Combat\"\n",
    "destroyed_building = \"/Users/ishanurgaonkar/Downloads/imagedata/DestroyedBuildings\"\n",
    "fire = \"/Users/ishanurgaonkar/Downloads/imagedata/Fire\"\n",
    "humanterian = \"/Users/ishanurgaonkar/Downloads/imagedata/Humanitarian Aid and rehabilitation\"\n",
    "vehicles = \"/Users/ishanurgaonkar/Downloads/imagedata/Military vehicles and weapons\""
   ]
  },
  {
   "cell_type": "code",
   "execution_count": 8,
   "id": "99291abf-afd8-4274-987e-34c998cf9cfa",
   "metadata": {},
   "outputs": [],
   "source": [
    "from tensorflow.keras.preprocessing.image import ImageDataGenerator"
   ]
  },
  {
   "cell_type": "code",
   "execution_count": 9,
   "id": "ddccab2f-477a-4556-a0e2-cf154448da2c",
   "metadata": {},
   "outputs": [],
   "source": [
    "train = ImageDataGenerator(rescale=1./255,zoom_range=0.2,horizontal_flip=True)\n",
    "test = ImageDataGenerator(rescale=1./255)"
   ]
  },
  {
   "cell_type": "code",
   "execution_count": 10,
   "id": "0a0d5f20-2483-4e31-b390-eca0ca5f2249",
   "metadata": {},
   "outputs": [],
   "source": [
    "combat1=[os.path.join(combat,f) for f in os. listdir (combat)]\n",
    "destroyed_building1=[os.path.join(destroyed_building,f) for f in os.listdir(destroyed_building)] \n",
    "fire1=[os.path.join(fire,f) for f in os.listdir(fire)]\n",
    "humanterian1=[os.path.join(humanterian,f) for f in os.listdir(humanterian)]\n",
    "vehicles1=[os.path.join(vehicles,f) for f in os.listdir(vehicles)]\n"
   ]
  },
  {
   "cell_type": "code",
   "execution_count": 11,
   "id": "55828b38-250b-43c0-91fd-43b7d52a1432",
   "metadata": {},
   "outputs": [],
   "source": [
    "image_files=combat1+destroyed_building1+fire1+humanterian1+vehicles1"
   ]
  },
  {
   "cell_type": "code",
   "execution_count": 12,
   "id": "84985cc5-dc7d-4f03-b2c2-17595d5c93df",
   "metadata": {},
   "outputs": [],
   "source": [
    "label= [0] * len(combat1) +[1] * len(destroyed_building1) + [2] * len(fire1) + [3] * len(humanterian1) + [4] * len(vehicles1)"
   ]
  },
  {
   "cell_type": "code",
   "execution_count": 13,
   "id": "01248ff7-90ee-4c6f-882b-7baa0510dcb0",
   "metadata": {},
   "outputs": [
    {
     "data": {
      "text/html": [
       "<div>\n",
       "<style scoped>\n",
       "    .dataframe tbody tr th:only-of-type {\n",
       "        vertical-align: middle;\n",
       "    }\n",
       "\n",
       "    .dataframe tbody tr th {\n",
       "        vertical-align: top;\n",
       "    }\n",
       "\n",
       "    .dataframe thead th {\n",
       "        text-align: right;\n",
       "    }\n",
       "</style>\n",
       "<table border=\"1\" class=\"dataframe\">\n",
       "  <thead>\n",
       "    <tr style=\"text-align: right;\">\n",
       "      <th></th>\n",
       "      <th>image</th>\n",
       "      <th>labels</th>\n",
       "    </tr>\n",
       "  </thead>\n",
       "  <tbody>\n",
       "    <tr>\n",
       "      <th>0</th>\n",
       "      <td>/Users/ishanurgaonkar/Downloads/imagedata/Comb...</td>\n",
       "      <td>0</td>\n",
       "    </tr>\n",
       "    <tr>\n",
       "      <th>1</th>\n",
       "      <td>/Users/ishanurgaonkar/Downloads/imagedata/Comb...</td>\n",
       "      <td>0</td>\n",
       "    </tr>\n",
       "    <tr>\n",
       "      <th>2</th>\n",
       "      <td>/Users/ishanurgaonkar/Downloads/imagedata/Comb...</td>\n",
       "      <td>0</td>\n",
       "    </tr>\n",
       "    <tr>\n",
       "      <th>3</th>\n",
       "      <td>/Users/ishanurgaonkar/Downloads/imagedata/Comb...</td>\n",
       "      <td>0</td>\n",
       "    </tr>\n",
       "    <tr>\n",
       "      <th>4</th>\n",
       "      <td>/Users/ishanurgaonkar/Downloads/imagedata/Comb...</td>\n",
       "      <td>0</td>\n",
       "    </tr>\n",
       "    <tr>\n",
       "      <th>...</th>\n",
       "      <td>...</td>\n",
       "      <td>...</td>\n",
       "    </tr>\n",
       "    <tr>\n",
       "      <th>495</th>\n",
       "      <td>/Users/ishanurgaonkar/Downloads/imagedata/Mili...</td>\n",
       "      <td>4</td>\n",
       "    </tr>\n",
       "    <tr>\n",
       "      <th>496</th>\n",
       "      <td>/Users/ishanurgaonkar/Downloads/imagedata/Mili...</td>\n",
       "      <td>4</td>\n",
       "    </tr>\n",
       "    <tr>\n",
       "      <th>497</th>\n",
       "      <td>/Users/ishanurgaonkar/Downloads/imagedata/Mili...</td>\n",
       "      <td>4</td>\n",
       "    </tr>\n",
       "    <tr>\n",
       "      <th>498</th>\n",
       "      <td>/Users/ishanurgaonkar/Downloads/imagedata/Mili...</td>\n",
       "      <td>4</td>\n",
       "    </tr>\n",
       "    <tr>\n",
       "      <th>499</th>\n",
       "      <td>/Users/ishanurgaonkar/Downloads/imagedata/Mili...</td>\n",
       "      <td>4</td>\n",
       "    </tr>\n",
       "  </tbody>\n",
       "</table>\n",
       "<p>500 rows × 2 columns</p>\n",
       "</div>"
      ],
      "text/plain": [
       "                                                 image  labels\n",
       "0    /Users/ishanurgaonkar/Downloads/imagedata/Comb...       0\n",
       "1    /Users/ishanurgaonkar/Downloads/imagedata/Comb...       0\n",
       "2    /Users/ishanurgaonkar/Downloads/imagedata/Comb...       0\n",
       "3    /Users/ishanurgaonkar/Downloads/imagedata/Comb...       0\n",
       "4    /Users/ishanurgaonkar/Downloads/imagedata/Comb...       0\n",
       "..                                                 ...     ...\n",
       "495  /Users/ishanurgaonkar/Downloads/imagedata/Mili...       4\n",
       "496  /Users/ishanurgaonkar/Downloads/imagedata/Mili...       4\n",
       "497  /Users/ishanurgaonkar/Downloads/imagedata/Mili...       4\n",
       "498  /Users/ishanurgaonkar/Downloads/imagedata/Mili...       4\n",
       "499  /Users/ishanurgaonkar/Downloads/imagedata/Mili...       4\n",
       "\n",
       "[500 rows x 2 columns]"
      ]
     },
     "execution_count": 13,
     "metadata": {},
     "output_type": "execute_result"
    }
   ],
   "source": [
    "df = pd.DataFrame({'image': image_files, 'labels': label})\n",
    "df"
   ]
  },
  {
   "cell_type": "code",
   "execution_count": 14,
   "id": "cf06501f-942b-4591-9ed9-a4c5851bd508",
   "metadata": {},
   "outputs": [],
   "source": [
    "df[\"labels\"]=df[\"labels\"].astype(str)"
   ]
  },
  {
   "cell_type": "code",
   "execution_count": 15,
   "id": "bc51a9ac-fdac-48f0-9c34-07af06e549fb",
   "metadata": {},
   "outputs": [
    {
     "name": "stdout",
     "output_type": "stream",
     "text": [
      "Found 349 validated image filenames belonging to 5 classes.\n",
      "Found 150 validated image filenames belonging to 5 classes.\n"
     ]
    },
    {
     "name": "stderr",
     "output_type": "stream",
     "text": [
      "/opt/anaconda3/lib/python3.11/site-packages/keras/src/legacy/preprocessing/image.py:920: UserWarning: Found 1 invalid image filename(s) in x_col=\"image\". These filename(s) will be ignored.\n",
      "  warnings.warn(\n",
      "/opt/anaconda3/lib/python3.11/site-packages/keras/src/trainers/data_adapters/py_dataset_adapter.py:121: UserWarning: Your `PyDataset` class should call `super().__init__(**kwargs)` in its constructor. `**kwargs` can include `workers`, `use_multiprocessing`, `max_queue_size`. Do not pass these arguments to `fit()`, as they will be ignored.\n",
      "  self._warn_if_super_not_called()\n"
     ]
    },
    {
     "name": "stdout",
     "output_type": "stream",
     "text": [
      "\u001b[1m11/11\u001b[0m \u001b[32m━━━━━━━━━━━━━━━━━━━━\u001b[0m\u001b[37m\u001b[0m \u001b[1m12s\u001b[0m 717ms/step - accuracy: 0.2043 - loss: 1.6248 - val_accuracy: 0.1733 - val_loss: 1.6262\n",
      "Found 349 validated image filenames belonging to 5 classes.\n",
      "Found 150 validated image filenames belonging to 5 classes.\n"
     ]
    },
    {
     "name": "stderr",
     "output_type": "stream",
     "text": [
      "/opt/anaconda3/lib/python3.11/site-packages/keras/src/legacy/preprocessing/image.py:920: UserWarning: Found 1 invalid image filename(s) in x_col=\"image\". These filename(s) will be ignored.\n",
      "  warnings.warn(\n",
      "/opt/anaconda3/lib/python3.11/site-packages/keras/src/trainers/data_adapters/py_dataset_adapter.py:121: UserWarning: Your `PyDataset` class should call `super().__init__(**kwargs)` in its constructor. `**kwargs` can include `workers`, `use_multiprocessing`, `max_queue_size`. Do not pass these arguments to `fit()`, as they will be ignored.\n",
      "  self._warn_if_super_not_called()\n"
     ]
    },
    {
     "name": "stdout",
     "output_type": "stream",
     "text": [
      "\u001b[1m11/11\u001b[0m \u001b[32m━━━━━━━━━━━━━━━━━━━━\u001b[0m\u001b[37m\u001b[0m \u001b[1m12s\u001b[0m 732ms/step - accuracy: 0.1615 - loss: 1.6181 - val_accuracy: 0.1533 - val_loss: 1.6297\n",
      "Found 349 validated image filenames belonging to 5 classes.\n",
      "Found 150 validated image filenames belonging to 5 classes.\n"
     ]
    },
    {
     "name": "stderr",
     "output_type": "stream",
     "text": [
      "/opt/anaconda3/lib/python3.11/site-packages/keras/src/legacy/preprocessing/image.py:920: UserWarning: Found 1 invalid image filename(s) in x_col=\"image\". These filename(s) will be ignored.\n",
      "  warnings.warn(\n",
      "/opt/anaconda3/lib/python3.11/site-packages/keras/src/trainers/data_adapters/py_dataset_adapter.py:121: UserWarning: Your `PyDataset` class should call `super().__init__(**kwargs)` in its constructor. `**kwargs` can include `workers`, `use_multiprocessing`, `max_queue_size`. Do not pass these arguments to `fit()`, as they will be ignored.\n",
      "  self._warn_if_super_not_called()\n"
     ]
    },
    {
     "name": "stdout",
     "output_type": "stream",
     "text": [
      "\u001b[1m11/11\u001b[0m \u001b[32m━━━━━━━━━━━━━━━━━━━━\u001b[0m\u001b[37m\u001b[0m \u001b[1m13s\u001b[0m 723ms/step - accuracy: 0.1908 - loss: 1.6217 - val_accuracy: 0.1533 - val_loss: 1.6275\n",
      "Found 349 validated image filenames belonging to 5 classes.\n",
      "Found 150 validated image filenames belonging to 5 classes.\n"
     ]
    },
    {
     "name": "stderr",
     "output_type": "stream",
     "text": [
      "/opt/anaconda3/lib/python3.11/site-packages/keras/src/legacy/preprocessing/image.py:920: UserWarning: Found 1 invalid image filename(s) in x_col=\"image\". These filename(s) will be ignored.\n",
      "  warnings.warn(\n",
      "/opt/anaconda3/lib/python3.11/site-packages/keras/src/trainers/data_adapters/py_dataset_adapter.py:121: UserWarning: Your `PyDataset` class should call `super().__init__(**kwargs)` in its constructor. `**kwargs` can include `workers`, `use_multiprocessing`, `max_queue_size`. Do not pass these arguments to `fit()`, as they will be ignored.\n",
      "  self._warn_if_super_not_called()\n"
     ]
    },
    {
     "name": "stdout",
     "output_type": "stream",
     "text": [
      "\u001b[1m11/11\u001b[0m \u001b[32m━━━━━━━━━━━━━━━━━━━━\u001b[0m\u001b[37m\u001b[0m \u001b[1m12s\u001b[0m 666ms/step - accuracy: 0.1594 - loss: 1.6294 - val_accuracy: 0.1533 - val_loss: 1.6215\n",
      "Found 349 validated image filenames belonging to 5 classes.\n",
      "Found 150 validated image filenames belonging to 5 classes.\n"
     ]
    },
    {
     "name": "stderr",
     "output_type": "stream",
     "text": [
      "/opt/anaconda3/lib/python3.11/site-packages/keras/src/legacy/preprocessing/image.py:920: UserWarning: Found 1 invalid image filename(s) in x_col=\"image\". These filename(s) will be ignored.\n",
      "  warnings.warn(\n",
      "/opt/anaconda3/lib/python3.11/site-packages/keras/src/trainers/data_adapters/py_dataset_adapter.py:121: UserWarning: Your `PyDataset` class should call `super().__init__(**kwargs)` in its constructor. `**kwargs` can include `workers`, `use_multiprocessing`, `max_queue_size`. Do not pass these arguments to `fit()`, as they will be ignored.\n",
      "  self._warn_if_super_not_called()\n"
     ]
    },
    {
     "name": "stdout",
     "output_type": "stream",
     "text": [
      "\u001b[1m11/11\u001b[0m \u001b[32m━━━━━━━━━━━━━━━━━━━━\u001b[0m\u001b[37m\u001b[0m \u001b[1m14s\u001b[0m 902ms/step - accuracy: 0.2007 - loss: 1.6212 - val_accuracy: 0.1533 - val_loss: 1.6381\n",
      "Found 349 validated image filenames belonging to 5 classes.\n",
      "Found 150 validated image filenames belonging to 5 classes.\n"
     ]
    },
    {
     "name": "stderr",
     "output_type": "stream",
     "text": [
      "/opt/anaconda3/lib/python3.11/site-packages/keras/src/legacy/preprocessing/image.py:920: UserWarning: Found 1 invalid image filename(s) in x_col=\"image\". These filename(s) will be ignored.\n",
      "  warnings.warn(\n",
      "/opt/anaconda3/lib/python3.11/site-packages/keras/src/trainers/data_adapters/py_dataset_adapter.py:121: UserWarning: Your `PyDataset` class should call `super().__init__(**kwargs)` in its constructor. `**kwargs` can include `workers`, `use_multiprocessing`, `max_queue_size`. Do not pass these arguments to `fit()`, as they will be ignored.\n",
      "  self._warn_if_super_not_called()\n"
     ]
    },
    {
     "name": "stdout",
     "output_type": "stream",
     "text": [
      "\u001b[1m11/11\u001b[0m \u001b[32m━━━━━━━━━━━━━━━━━━━━\u001b[0m\u001b[37m\u001b[0m \u001b[1m15s\u001b[0m 897ms/step - accuracy: 0.2020 - loss: 1.6212 - val_accuracy: 0.1533 - val_loss: 1.6271\n",
      "Found 349 validated image filenames belonging to 5 classes.\n",
      "Found 150 validated image filenames belonging to 5 classes.\n"
     ]
    },
    {
     "name": "stderr",
     "output_type": "stream",
     "text": [
      "/opt/anaconda3/lib/python3.11/site-packages/keras/src/legacy/preprocessing/image.py:920: UserWarning: Found 1 invalid image filename(s) in x_col=\"image\". These filename(s) will be ignored.\n",
      "  warnings.warn(\n",
      "/opt/anaconda3/lib/python3.11/site-packages/keras/src/trainers/data_adapters/py_dataset_adapter.py:121: UserWarning: Your `PyDataset` class should call `super().__init__(**kwargs)` in its constructor. `**kwargs` can include `workers`, `use_multiprocessing`, `max_queue_size`. Do not pass these arguments to `fit()`, as they will be ignored.\n",
      "  self._warn_if_super_not_called()\n"
     ]
    },
    {
     "name": "stdout",
     "output_type": "stream",
     "text": [
      "\u001b[1m11/11\u001b[0m \u001b[32m━━━━━━━━━━━━━━━━━━━━\u001b[0m\u001b[37m\u001b[0m \u001b[1m16s\u001b[0m 932ms/step - accuracy: 0.2289 - loss: 1.6203 - val_accuracy: 0.2067 - val_loss: 1.6122\n",
      "Found 349 validated image filenames belonging to 5 classes.\n",
      "Found 150 validated image filenames belonging to 5 classes.\n"
     ]
    },
    {
     "name": "stderr",
     "output_type": "stream",
     "text": [
      "/opt/anaconda3/lib/python3.11/site-packages/keras/src/legacy/preprocessing/image.py:920: UserWarning: Found 1 invalid image filename(s) in x_col=\"image\". These filename(s) will be ignored.\n",
      "  warnings.warn(\n",
      "/opt/anaconda3/lib/python3.11/site-packages/keras/src/trainers/data_adapters/py_dataset_adapter.py:121: UserWarning: Your `PyDataset` class should call `super().__init__(**kwargs)` in its constructor. `**kwargs` can include `workers`, `use_multiprocessing`, `max_queue_size`. Do not pass these arguments to `fit()`, as they will be ignored.\n",
      "  self._warn_if_super_not_called()\n"
     ]
    },
    {
     "name": "stdout",
     "output_type": "stream",
     "text": [
      "\u001b[1m11/11\u001b[0m \u001b[32m━━━━━━━━━━━━━━━━━━━━\u001b[0m\u001b[37m\u001b[0m \u001b[1m16s\u001b[0m 979ms/step - accuracy: 0.2011 - loss: 1.6190 - val_accuracy: 0.1533 - val_loss: 1.6322\n",
      "Found 349 validated image filenames belonging to 5 classes.\n",
      "Found 150 validated image filenames belonging to 5 classes.\n"
     ]
    },
    {
     "name": "stderr",
     "output_type": "stream",
     "text": [
      "/opt/anaconda3/lib/python3.11/site-packages/keras/src/legacy/preprocessing/image.py:920: UserWarning: Found 1 invalid image filename(s) in x_col=\"image\". These filename(s) will be ignored.\n",
      "  warnings.warn(\n",
      "/opt/anaconda3/lib/python3.11/site-packages/keras/src/trainers/data_adapters/py_dataset_adapter.py:121: UserWarning: Your `PyDataset` class should call `super().__init__(**kwargs)` in its constructor. `**kwargs` can include `workers`, `use_multiprocessing`, `max_queue_size`. Do not pass these arguments to `fit()`, as they will be ignored.\n",
      "  self._warn_if_super_not_called()\n"
     ]
    },
    {
     "name": "stdout",
     "output_type": "stream",
     "text": [
      "\u001b[1m11/11\u001b[0m \u001b[32m━━━━━━━━━━━━━━━━━━━━\u001b[0m\u001b[37m\u001b[0m \u001b[1m16s\u001b[0m 929ms/step - accuracy: 0.1697 - loss: 1.6259 - val_accuracy: 0.1733 - val_loss: 1.6183\n",
      "Found 349 validated image filenames belonging to 5 classes.\n",
      "Found 150 validated image filenames belonging to 5 classes.\n"
     ]
    },
    {
     "name": "stderr",
     "output_type": "stream",
     "text": [
      "/opt/anaconda3/lib/python3.11/site-packages/keras/src/legacy/preprocessing/image.py:920: UserWarning: Found 1 invalid image filename(s) in x_col=\"image\". These filename(s) will be ignored.\n",
      "  warnings.warn(\n",
      "/opt/anaconda3/lib/python3.11/site-packages/keras/src/trainers/data_adapters/py_dataset_adapter.py:121: UserWarning: Your `PyDataset` class should call `super().__init__(**kwargs)` in its constructor. `**kwargs` can include `workers`, `use_multiprocessing`, `max_queue_size`. Do not pass these arguments to `fit()`, as they will be ignored.\n",
      "  self._warn_if_super_not_called()\n"
     ]
    },
    {
     "name": "stdout",
     "output_type": "stream",
     "text": [
      "\u001b[1m11/11\u001b[0m \u001b[32m━━━━━━━━━━━━━━━━━━━━\u001b[0m\u001b[37m\u001b[0m \u001b[1m16s\u001b[0m 907ms/step - accuracy: 0.2235 - loss: 1.6150 - val_accuracy: 0.1733 - val_loss: 1.6428\n",
      "\u001b[1m5/5\u001b[0m \u001b[32m━━━━━━━━━━━━━━━━━━━━\u001b[0m\u001b[37m\u001b[0m \u001b[1m3s\u001b[0m 546ms/step - accuracy: 0.1593 - loss: 1.6496\n",
      "Test accuracy: 0.1733333319425583\n",
      "\u001b[1m5/5\u001b[0m \u001b[32m━━━━━━━━━━━━━━━━━━━━\u001b[0m\u001b[37m\u001b[0m \u001b[1m5s\u001b[0m 810ms/step\n",
      "Classification Report:\n",
      "              precision    recall  f1-score   support\n",
      "\n",
      "           0       0.00      0.00      0.00        39\n",
      "           1       0.00      0.00      0.00        23\n",
      "           2       0.17      1.00      0.30        26\n",
      "           3       0.00      0.00      0.00        31\n",
      "           4       0.00      0.00      0.00        31\n",
      "\n",
      "    accuracy                           0.17       150\n",
      "   macro avg       0.03      0.20      0.06       150\n",
      "weighted avg       0.03      0.17      0.05       150\n",
      "\n",
      "Confusion Matrix:\n",
      "[[ 0  0 39  0  0]\n",
      " [ 0  0 23  0  0]\n",
      " [ 0  0 26  0  0]\n",
      " [ 0  0 31  0  0]\n",
      " [ 0  0 31  0  0]]\n",
      "F1-Score (Macro): 0.0590909090909091\n"
     ]
    },
    {
     "name": "stderr",
     "output_type": "stream",
     "text": [
      "/opt/anaconda3/lib/python3.11/site-packages/sklearn/metrics/_classification.py:1344: UndefinedMetricWarning: Precision and F-score are ill-defined and being set to 0.0 in labels with no predicted samples. Use `zero_division` parameter to control this behavior.\n",
      "  _warn_prf(average, modifier, msg_start, len(result))\n",
      "/opt/anaconda3/lib/python3.11/site-packages/sklearn/metrics/_classification.py:1344: UndefinedMetricWarning: Precision and F-score are ill-defined and being set to 0.0 in labels with no predicted samples. Use `zero_division` parameter to control this behavior.\n",
      "  _warn_prf(average, modifier, msg_start, len(result))\n",
      "/opt/anaconda3/lib/python3.11/site-packages/sklearn/metrics/_classification.py:1344: UndefinedMetricWarning: Precision and F-score are ill-defined and being set to 0.0 in labels with no predicted samples. Use `zero_division` parameter to control this behavior.\n",
      "  _warn_prf(average, modifier, msg_start, len(result))\n"
     ]
    }
   ],
   "source": [
    "import tensorflow as tf\n",
    "from tensorflow.keras.applications import EfficientNetB0\n",
    "from tensorflow.keras.layers import GlobalAveragePooling2D, Dense, Dropout\n",
    "from tensorflow.keras.models import Sequential\n",
    "from tensorflow.keras.optimizers import Adam\n",
    "from tensorflow.keras.preprocessing.image import ImageDataGenerator\n",
    "from sklearn.model_selection import train_test_split\n",
    "from sklearn.metrics import classification_report, confusion_matrix, f1_score\n",
    "\n",
    "# ... (Your code for loading data and defining paths)\n",
    "\n",
    "# Split data into training and testing sets (adjust test_size as needed)\n",
    "train_data, test_data = train_test_split(df, test_size=0.3, random_state=42)\n",
    "\n",
    "# Define data augmentation for training (limited for lower accuracy, optional)\n",
    "train_datagen = ImageDataGenerator(rescale=1./255)\n",
    "\n",
    "# No augmentation for testing, only rescaling\n",
    "test_datagen = ImageDataGenerator(rescale=1./255)\n",
    "\n",
    "epochs = 10\n",
    "\n",
    "# Empty list to store training and validation accuracy during each epoch\n",
    "train_acc = []\n",
    "val_acc = []\n",
    "train_loss = []\n",
    "val_loss = []\n",
    "\n",
    "for epoch in range(epochs):\n",
    "  # Reset the training generator after each epoch\n",
    "  train_generator = train_datagen.flow_from_dataframe(\n",
    "      dataframe=train_data,\n",
    "      x_col=\"image\",\n",
    "      y_col=\"labels\",\n",
    "      target_size=(224, 224),\n",
    "      class_mode=\"categorical\",\n",
    "      batch_size=32\n",
    "  )\n",
    "\n",
    "  # Print the number of batches in the training generator (optional)\n",
    "  # print(len(train_generator))\n",
    "\n",
    "  test_generator = test_datagen.flow_from_dataframe(\n",
    "      dataframe=test_data,\n",
    "      x_col=\"image\",\n",
    "      y_col=\"labels\",\n",
    "      target_size=(224, 224),\n",
    "      class_mode=\"categorical\",\n",
    "      batch_size=32\n",
    "  )\n",
    "\n",
    "  # Load EfficientNetB0 with minimal training (lowers accuracy)\n",
    "  efficientnet_base = EfficientNetB0(weights='imagenet', include_top=False, input_shape=(224, 224, 3))\n",
    "  efficientnet_base.trainable = False\n",
    "  model = Sequential([\n",
    "      efficientnet_base,\n",
    "      GlobalAveragePooling2D(),\n",
    "      Dense(128, activation='relu'),\n",
    "      Dropout(0.5),\n",
    "      Dense(5, activation='softmax')\n",
    "  ])\n",
    "  model.compile(optimizer=Adam(), loss='categorical_crossentropy', metrics=['accuracy'])\n",
    "\n",
    "  # Adjust steps_per_epoch based on the number of batches in train_generator (optional)\n",
    "  history = model.fit(\n",
    "      train_generator,\n",
    "      steps_per_epoch=len(train_generator),  # Adjust if necessary\n",
    "      epochs=1,  # Train for 1 epoch within the loop\n",
    "      validation_data=test_generator,\n",
    "      validation_steps=len(test_generator)\n",
    "  )\n",
    "\n",
    "# Extract training and validation accuracy from history after each epoch\n",
    "  train_acc.append(history.history['accuracy'][0])\n",
    "  val_acc.append(history.history['val_accuracy'][0])\n",
    "\n",
    "\n",
    "  train_loss.append(history.history['loss'][0])\n",
    "  val_loss.append(history.history['val_loss'][0])\n",
    "  # ... (Optional: Code for further training or evaluation)\n",
    "\n",
    "# Plot training and validation accuracy\n",
    "epochs_range = range(epochs)  # List of epochs for the x-axis\n",
    "\n",
    "# Evaluate the model on the test set\n",
    "test_loss, test_acc = model.evaluate(test_generator)\n",
    "print('Test accuracy:', test_acc)\n",
    "\n",
    "\n",
    "# Predict on the test set and get true labels\n",
    "predictions = np.argmax(model.predict(test_generator), axis=-1)\n",
    "true_labels = test_generator.classes\n",
    "\n",
    "# Print classification report\n",
    "print('Classification Report:')\n",
    "print(classification_report(true_labels, predictions))\n",
    "\n",
    "\n",
    "\n",
    "# Print confusion matrix\n",
    "print('Confusion Matrix:')\n",
    "print(confusion_matrix(true_labels, predictions))\n",
    "\n",
    "# Calculate F1-score (macro average)\n",
    "f1_macro = f1_score(true_labels, predictions, average='macro')\n",
    "print('F1-Score (Macro):', f1_macro)\n",
    "\n",
    "\n"
   ]
  },
  {
   "cell_type": "code",
   "execution_count": 16,
   "id": "66173df8-5627-4fa7-b110-e55b765f635b",
   "metadata": {},
   "outputs": [
    {
     "data": {
      "image/png": "[encoded data removed]",
      "text/plain": [
       "<Figure size 640x480 with 1 Axes>"
      ]
     },
     "metadata": {},
     "output_type": "display_data"
    }
   ],
   "source": [
    "import matplotlib.pyplot as plt\n",
    "plt.plot(epochs_range, train_acc, label='Training Accuracy')\n",
    "plt.plot(epochs_range, val_acc, label='Validation Accuracy')\n",
    "\n",
    "# Set labels and title\n",
    "plt.title('Training and Validation Accuracy')\n",
    "plt.xlabel('Epoch')\n",
    "plt.ylabel('Accuracy')\n",
    "plt.legend()\n",
    "\n",
    "# Show the plot\n",
    "\n",
    "plt.show()"
   ]
  },
  {
   "cell_type": "code",
   "execution_count": 17,
   "id": "0cdd2917-5579-405c-b9eb-e9ba69dc8df3",
   "metadata": {},
   "outputs": [
    {
     "data": {
      "image/png": "[encoded data removed]",
      "text/plain": [
       "<Figure size 640x480 with 1 Axes>"
      ]
     },
     "metadata": {},
     "output_type": "display_data"
    }
   ],
   "source": [
    "import matplotlib.pyplot as plt\n",
    "plt.plot(epochs_range, train_loss, label='Training Loss')\n",
    "plt.plot(epochs_range, val_loss, label='Validation Loss')\n",
    "\n",
    "# Set labels and title\n",
    "plt.title('Training and Validation Loss')\n",
    "plt.xlabel('Epoch')\n",
    "plt.ylabel('Loss')\n",
    "plt.legend()\n",
    "\n",
    "# Show the plot\n",
    "\n",
    "plt.show()"
   ]
  },
  {
   "cell_type": "code",
   "execution_count": null,
   "id": "4ad566f3-e513-474b-8935-ac182e7d81b7",
   "metadata": {},
   "outputs": [],
   "source": []
  }
 ],
 "metadata": {
  "kernelspec": {
   "display_name": "Python 3 (ipykernel)",
   "language": "python",
   "name": "python3"
  },
  "language_info": {
   "codemirror_mode": {
    "name": "ipython",
    "version": 3
   },
   "file_extension": ".py",
   "mimetype": "text/x-python",
   "name": "python",
   "nbconvert_exporter": "python",
   "pygments_lexer": "ipython3",
   "version": "3.11.5"
  }
 },
 "nbformat": 4,
 "nbformat_minor": 5
}
